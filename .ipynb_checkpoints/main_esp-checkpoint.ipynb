{
 "cells": [
  {
   "cell_type": "markdown",
   "metadata": {},
   "source": [
    "# Functions"
   ]
  },
  {
   "cell_type": "markdown",
   "metadata": {},
   "source": [
    "En este laboratorio pondremos en práctica algunos de los conceptos que hemos aprendido en los últimos días.\n",
    "\n",
    "`NOTA: En este laboratorio deberías intentar escribir todas las funciones por ti mismo utilizando solo la sintaxis más básica de Python y sin funciones como len, count, sum, max, min, in, etc. Dale una oportunidad. 🧑🏻‍💻👩🏻‍💻`\n",
    "\n",
    "La celda después de cada ejercicio contiene algunas pruebas para verificar si tu función funciona como se espera."
   ]
  },
  {
   "cell_type": "code",
   "execution_count": 1,
   "metadata": {},
   "outputs": [],
   "source": [
    "from mod.testing import *\n",
    "import unittest"
   ]
  },
  {
   "cell_type": "markdown",
   "metadata": {},
   "source": [
    "## 1. Escribe una función que devuelva el mayor de dos números"
   ]
  },
  {
   "cell_type": "code",
   "execution_count": 8,
   "metadata": {},
   "outputs": [],
   "source": [
    "def greater(a,b):\n",
    "    if a > b: return a\n",
    "    return b"
   ]
  },
  {
   "cell_type": "code",
   "execution_count": 9,
   "metadata": {},
   "outputs": [
    {
     "name": "stderr",
     "output_type": "stream",
     "text": [
      "....................................................................................................\n",
      "----------------------------------------------------------------------\n",
      "Ran 100 tests in 0.028s\n",
      "\n",
      "OK\n"
     ]
    }
   ],
   "source": [
    "# Para testear tu función\n",
    "test_greater(greater)"
   ]
  },
  {
   "cell_type": "markdown",
   "metadata": {},
   "source": [
    "## 2. Ahora escribe una función que devuelva el elemento más"
   ]
  },
  {
   "cell_type": "code",
   "execution_count": 33,
   "metadata": {},
   "outputs": [],
   "source": [
    "def greatest(lista):\n",
    "    if not lista:\n",
    "        raise ValueError(\"La lista no puede estar vacía\")\n",
    "    \n",
    "    maximo = lista[0]\n",
    "    i = 0\n",
    "    while True:\n",
    "        try:\n",
    "            elemento = lista[i]\n",
    "            if elemento > maximo:\n",
    "                maximo = elemento\n",
    "            i += 1\n",
    "        except IndexError:\n",
    "            break\n",
    "    return maximo"
   ]
  },
  {
   "cell_type": "code",
   "execution_count": 34,
   "metadata": {},
   "outputs": [
    {
     "name": "stderr",
     "output_type": "stream",
     "text": [
      "....................................................................................................\n",
      "----------------------------------------------------------------------\n",
      "Ran 100 tests in 0.033s\n",
      "\n",
      "OK\n"
     ]
    }
   ],
   "source": [
    "# Para testear tu función\n",
    "test_greatest(greatest)"
   ]
  },
  {
   "cell_type": "markdown",
   "metadata": {},
   "source": [
    "## 3. Escribe una función que sume todos los elementos de una lista"
   ]
  },
  {
   "cell_type": "code",
   "execution_count": 47,
   "metadata": {},
   "outputs": [],
   "source": [
    "def sum_all(lst):\n",
    "    if not lst:  \n",
    "        return 0\n",
    "    \n",
    "    total = 0\n",
    "    i = 0\n",
    "    while True:\n",
    "        try:\n",
    "            total += lst[i]  \n",
    "            i += 1          \n",
    "        except IndexError:  \n",
    "            break           \n",
    "    return total"
   ]
  },
  {
   "cell_type": "code",
   "execution_count": 48,
   "metadata": {
    "scrolled": true
   },
   "outputs": [
    {
     "name": "stderr",
     "output_type": "stream",
     "text": [
      "....................................................................................................\n",
      "----------------------------------------------------------------------\n",
      "Ran 100 tests in 0.068s\n",
      "\n",
      "OK\n"
     ]
    }
   ],
   "source": [
    "# Para testear tu función\n",
    "test_sum(sum_all)"
   ]
  },
  {
   "cell_type": "markdown",
   "metadata": {},
   "source": [
    "## 4. Escribe otra función que multiplique todos los elementos de una lista"
   ]
  },
  {
   "cell_type": "code",
   "execution_count": 51,
   "metadata": {},
   "outputs": [],
   "source": [
    "def mult_all(lst):\n",
    "    if not lst:  \n",
    "        return 1  \n",
    "    \n",
    "    producto = 1\n",
    "    i = 0\n",
    "    while True:\n",
    "        try:\n",
    "            producto *= lst[i]  \n",
    "            i += 1              \n",
    "        except IndexError:      \n",
    "            break               \n",
    "    return producto\n"
   ]
  },
  {
   "cell_type": "code",
   "execution_count": 50,
   "metadata": {
    "scrolled": true
   },
   "outputs": [
    {
     "name": "stderr",
     "output_type": "stream",
     "text": [
      "....................................................................................................\n",
      "----------------------------------------------------------------------\n",
      "Ran 100 tests in 0.033s\n",
      "\n",
      "OK\n"
     ]
    }
   ],
   "source": [
    "# Para testear tu función\n",
    "test_mult(mult_all)"
   ]
  },
  {
   "cell_type": "markdown",
   "metadata": {},
   "source": [
    "## 5. Ahora combina esas dos ideas y escribe una función que reciba una lista y ya sea \"+\" o \"*\", y produzca el resultado acorde"
   ]
  },
  {
   "cell_type": "code",
   "execution_count": 59,
   "metadata": {},
   "outputs": [],
   "source": [
    "def oper_all(arr, oper=\"*\"):\n",
    "    if not arr:  \n",
    "        return 0 if oper == \"+\" else 1  \n",
    "    \n",
    "    resultado = 0 if oper == \"+\" else 1  \n",
    "    i = 0\n",
    "    while True:\n",
    "        try:\n",
    "            if oper == \"+\":\n",
    "                resultado += arr[i]  \n",
    "            elif oper == \"*\":\n",
    "                resultado *= arr[i]  #\n",
    "            else:\n",
    "                raise ValueError(\"Operador no válido. Usa '+' o '*'\")\n",
    "            i += 1\n",
    "        except IndexError: \n",
    "            break\n",
    "    return resultado"
   ]
  },
  {
   "cell_type": "code",
   "execution_count": 53,
   "metadata": {},
   "outputs": [
    {
     "name": "stderr",
     "output_type": "stream",
     "text": [
      "....................................................................................................\n",
      "----------------------------------------------------------------------\n",
      "Ran 100 tests in 0.034s\n",
      "\n",
      "OK\n"
     ]
    }
   ],
   "source": [
    "# Para testear tu función\n",
    "test_operations(oper_all)"
   ]
  },
  {
   "cell_type": "markdown",
   "metadata": {},
   "source": [
    "## 6. Escribe una función que devuelva el factorial de un número."
   ]
  },
  {
   "cell_type": "code",
   "execution_count": 60,
   "metadata": {},
   "outputs": [],
   "source": [
    "def factorial(n):\n",
    "    if n < 0:\n",
    "        raise ValueError(\"El factorial no está definido para números negativos\")\n",
    "    if n == 0 or n == 1:  \n",
    "        return 1\n",
    "\n",
    "    resultado = 1\n",
    "    i = 1\n",
    "    while i <= n:  \n",
    "        resultado *= i\n",
    "        i += 1\n",
    "    return resultado"
   ]
  },
  {
   "cell_type": "code",
   "execution_count": 55,
   "metadata": {},
   "outputs": [],
   "source": [
    "# Fórmula factorial\n",
    "# n! = n * (n - 1) *...*1\n",
    "\n",
    "# Este código define una función llamada \"factorial\" que toma una entrada \"n\". La función utiliza un bucle for para iterar a través del rango de números\n",
    "# desde 1 hasta n+1. Para cada número en ese rango, multiplica el valor actual de x por el número en el rango. Al final del bucle,\n",
    "# la función devuelve el valor final de x, que será el factorial del número de entrada \"n\".\n",
    "\n",
    "# El factorial de un entero positivo n es el producto de todos los enteros positivos menores o iguales a n.\n",
    "# Por ejemplo, el factorial de 6 (escrito \"6!\") es 6 * 5 * 4 * 3 * 2 * 1 = 720.\n",
    "\n",
    "# Así que esta función toma una entrada de cualquier entero positivo y devuelve el factorial de ese número."
   ]
  },
  {
   "cell_type": "code",
   "execution_count": 56,
   "metadata": {},
   "outputs": [
    {
     "name": "stderr",
     "output_type": "stream",
     "text": [
      "....................................................................................................\n",
      "----------------------------------------------------------------------\n",
      "Ran 100 tests in 0.034s\n",
      "\n",
      "OK\n"
     ]
    }
   ],
   "source": [
    "# This will test your function \n",
    "test_factorial(factorial)"
   ]
  },
  {
   "cell_type": "markdown",
   "metadata": {},
   "source": [
    "## 7. Escribe una función que tome una lista y devuelva una lista de los valores únicos.\n",
    "\n",
    "`NOTE: No podemos usar set. 🤔`"
   ]
  },
  {
   "cell_type": "code",
   "execution_count": 57,
   "metadata": {},
   "outputs": [],
   "source": [
    "def unique(lst_un):\n",
    "    unique_values = []  \n",
    "    for elemento in lst_un:  \n",
    "        es_unico = True\n",
    "        for valor in unique_values:  \n",
    "            if elemento == valor:\n",
    "                es_unico = False\n",
    "                break\n",
    "        if es_unico:  \n",
    "            unique_values.append(elemento)\n",
    "    return unique_values"
   ]
  },
  {
   "cell_type": "code",
   "execution_count": 58,
   "metadata": {},
   "outputs": [
    {
     "name": "stderr",
     "output_type": "stream",
     "text": [
      "....................................................................................................\n",
      "----------------------------------------------------------------------\n",
      "Ran 100 tests in 0.073s\n",
      "\n",
      "OK\n"
     ]
    }
   ],
   "source": [
    "# Para testear tu función \n",
    "test_unique(unique)"
   ]
  },
  {
   "cell_type": "markdown",
   "metadata": {},
   "source": [
    "## 8. Escribe una función que devuelva la moda de una lista, es decir: el elemento que aparece más veces.\n",
    "\n",
    "`NOTE: No se debe usar count... 🧐`"
   ]
  },
  {
   "cell_type": "code",
   "execution_count": 61,
   "metadata": {},
   "outputs": [],
   "source": [
    "def mode_counter(arr):\n",
    "    if not arr:  \n",
    "        raise ValueError(\"La lista está vacía, no se puede calcular la moda\")\n",
    "    \n",
    "    frecuencias = {}  \n",
    "    for elemento in arr:\n",
    "        if elemento in frecuencias:  # Incrementa el conteo si ya existe\n",
    "            frecuencias[elemento] += 1\n",
    "        else:  \n",
    "            frecuencias[elemento] = 1\n",
    "    \n",
    "    # Encontrar el elemento con la mayor frecuencia\n",
    "    moda = None\n",
    "    max_frecuencia = 0\n",
    "    for elemento, frecuencia in frecuencias.items():\n",
    "        if frecuencia > max_frecuencia:  \n",
    "            max_frecuencia = frecuencia\n",
    "            moda = elemento\n",
    "    \n",
    "    return moda"
   ]
  },
  {
   "cell_type": "code",
   "execution_count": 62,
   "metadata": {},
   "outputs": [
    {
     "name": "stderr",
     "output_type": "stream",
     "text": [
      "....................................................................................................\n",
      "----------------------------------------------------------------------\n",
      "Ran 100 tests in 0.033s\n",
      "\n",
      "OK\n"
     ]
    }
   ],
   "source": [
    "# Para testear tu función \n",
    "test_mode(mode_counter)"
   ]
  },
  {
   "cell_type": "markdown",
   "metadata": {},
   "source": [
    "## 9. Escribe una función que calcule la desviación estándar de una lista.\n",
    "`NOTE: no utilices librerías ni ninguna función ya construida. 😉`"
   ]
  },
  {
   "cell_type": "code",
   "execution_count": 74,
   "metadata": {},
   "outputs": [],
   "source": [
    "def st_dev(list_sd):\n",
    "    if not list_sd:\n",
    "        raise ValueError(\"La lista está vacía, no se puede calcular la desviación estándar\")\n",
    "    \n",
    "    # Calcular el tamaño de la lista \n",
    "    n = 0\n",
    "    for _ in list_sd:\n",
    "        n += 1\n",
    "    \n",
    "    if n < 2:\n",
    "        raise ValueError(\"La desviación estándar requiere al menos dos elementos\")\n",
    "    \n",
    "    # Calculamos la media \n",
    "    suma = 0\n",
    "    for num in list_sd:\n",
    "        suma += num\n",
    "    media = suma / n\n",
    "    \n",
    "    # Calculamos la suma de las diferencias al cuadrado\n",
    "    suma_diferencias_cuadradas = 0\n",
    "    for num in list_sd:\n",
    "        diferencia = num - media\n",
    "        suma_diferencias_cuadradas += diferencia * diferencia\n",
    "    \n",
    "    # Dividir por (n - 1) para calcular la desviación estándar muestral\n",
    "    divisor = n - 1\n",
    "    \n",
    "    # Calcular y devolver la desviación estándar\n",
    "    desviacion_estandar = (suma_diferencias_cuadradas / divisor) ** 0.5\n",
    "    return desviacion_estandar"
   ]
  },
  {
   "cell_type": "code",
   "execution_count": 75,
   "metadata": {},
   "outputs": [
    {
     "name": "stderr",
     "output_type": "stream",
     "text": [
      "....................................................................................................\n",
      "----------------------------------------------------------------------\n",
      "Ran 100 tests in 0.032s\n",
      "\n",
      "OK\n"
     ]
    }
   ],
   "source": [
    "# Para testear tu función\n",
    "test_stdev(st_dev)"
   ]
  },
  {
   "cell_type": "markdown",
   "metadata": {},
   "source": [
    "## 10. Escribe una función para verificar si una cadena es un pangrama, es decir: si contiene todas las letras del alfabeto al menos una vez. Ten en cuenta que las cadenas pueden contener caracteres que no son letras."
   ]
  },
  {
   "cell_type": "code",
   "execution_count": 76,
   "metadata": {},
   "outputs": [],
   "source": [
    "def pangram(string):\n",
    "    string = string.lower()\n",
    "    \n",
    "    # Creamos una lista de todas las letras del alfabeto\n",
    "    alfabeto = \"abcdefghijklmnopqrstuvwxyz\"\n",
    "    \n",
    "    # Verificamos si cada letra del alfabeto está en la cadena\n",
    "    for letra in alfabeto:\n",
    "        letra_encontrada = False\n",
    "        for caracter in string:\n",
    "            if caracter == letra:\n",
    "                letra_encontrada = True\n",
    "                break  \n",
    "        if not letra_encontrada:  # Si alguna letra no está, no es un pangrama\n",
    "            return False\n",
    "    \n",
    "    # Si todas las letras están presentes, es un pangrama\n",
    "    return True"
   ]
  },
  {
   "cell_type": "code",
   "execution_count": 77,
   "metadata": {},
   "outputs": [
    {
     "name": "stderr",
     "output_type": "stream",
     "text": [
      "..............................\n",
      "----------------------------------------------------------------------\n",
      "Ran 30 tests in 0.016s\n",
      "\n",
      "OK\n"
     ]
    }
   ],
   "source": [
    "# Para testear tu función\n",
    "test_pangram(pangram)"
   ]
  },
  {
   "cell_type": "markdown",
   "metadata": {},
   "source": [
    "## 11. Escribe una función que reciba una cadena de palabras separadas por comas y devuelva una cadena de palabras separadas por comas ordenadas alfabéticamente.\n",
    "\n",
    "`NOTA: Puedes usar sorted pero no split y definitivamente no join! 🤪`"
   ]
  },
  {
   "cell_type": "code",
   "execution_count": 78,
   "metadata": {},
   "outputs": [],
   "source": [
    "def sort_alpha(string):\n",
    "    palabras = []\n",
    "    palabra_actual = \"\"\n",
    "    for caracter in string:\n",
    "        if caracter == \",\":  # Cuando encontramos una coma, agregamos la palabra actual a la lista\n",
    "            palabras.append(palabra_actual)\n",
    "            palabra_actual = \"\"  # Reiniciamos la palabra actual\n",
    "        else:\n",
    "            palabra_actual += caracter  # Construimos la palabra carácter por carácter\n",
    "    \n",
    "    if palabra_actual:\n",
    "        palabras.append(palabra_actual)\n",
    "    \n",
    "    palabras_ordenadas = sorted(palabras)\n",
    "    \n",
    "    # Reconstruir la cadena manualmente (sin join)\n",
    "    resultado = \"\"\n",
    "    for i, palabra in enumerate(palabras_ordenadas):\n",
    "        resultado += palabra\n",
    "        if i < len(palabras_ordenadas) - 1:  # Agregar comas entre las palabras\n",
    "            resultado += \",\"\n",
    "    \n",
    "    return resultado"
   ]
  },
  {
   "cell_type": "code",
   "execution_count": 79,
   "metadata": {},
   "outputs": [
    {
     "name": "stderr",
     "output_type": "stream",
     "text": [
      "....................................................................................................\n",
      "----------------------------------------------------------------------\n",
      "Ran 100 tests in 0.039s\n",
      "\n",
      "OK\n"
     ]
    }
   ],
   "source": [
    "# Para testear tu función \n",
    "test_alpha(sort_alpha)"
   ]
  },
  {
   "cell_type": "markdown",
   "metadata": {},
   "source": [
    "## 12. Escribe una función para verificar si una contraseña dada es fuerte (al menos 8 caracteres, al menos una minúscula, al menos una mayúscula, al menos un número y al menos un carácter especial). Debería devolver True si es fuerte y False si no lo es."
   ]
  },
  {
   "cell_type": "code",
   "execution_count": 82,
   "metadata": {},
   "outputs": [],
   "source": [
    "def check_pass(password):\n",
    "    # Verificamos si la contraseña tiene al menos 8 caracteres\n",
    "    length_valid = False\n",
    "    count = 0\n",
    "    for _ in password:\n",
    "        count += 1\n",
    "    if count >= 8:\n",
    "        length_valid = True\n",
    "\n",
    "    # Verificamos si contiene al menos una letra minúscula\n",
    "    has_lower = False\n",
    "    for char in password:\n",
    "        if 'a' <= char <= 'z':\n",
    "            has_lower = True\n",
    "            break\n",
    "\n",
    "    # Verificamos si contiene al menos una letra mayúscula\n",
    "    has_upper = False\n",
    "    for char in password:\n",
    "        if 'A' <= char <= 'Z':\n",
    "            has_upper = True\n",
    "            break\n",
    "\n",
    "    # Verificamos si contiene al menos un número\n",
    "    has_digit = False\n",
    "    for char in password:\n",
    "        if '0' <= char <= '9':\n",
    "            has_digit = True\n",
    "            break\n",
    "\n",
    "    # Verificamos si contiene al menos un carácter especial\n",
    "    special_characters = \"!@#$%^&*()-_=+[]{}|;:'\\\",.<>?/`~\"\n",
    "    has_special = False\n",
    "    for char in password:\n",
    "        if char in special_characters:\n",
    "            has_special = True\n",
    "            break\n",
    "\n",
    "    # Devolvemos True si cumple todos los criterios, de lo contrario False\n",
    "    return length_valid and has_lower and has_upper and has_digit and has_special"
   ]
  },
  {
   "cell_type": "code",
   "execution_count": 83,
   "metadata": {},
   "outputs": [
    {
     "name": "stderr",
     "output_type": "stream",
     "text": [
      "....................................................................................................\n",
      "----------------------------------------------------------------------\n",
      "Ran 100 tests in 0.054s\n",
      "\n",
      "OK\n"
     ]
    }
   ],
   "source": [
    "# Para testear tu función\n",
    "test_pass(check_pass)"
   ]
  },
  {
   "cell_type": "code",
   "execution_count": null,
   "metadata": {},
   "outputs": [],
   "source": []
  }
 ],
 "metadata": {
  "kernelspec": {
   "display_name": "Python 3 (ipykernel)",
   "language": "python",
   "name": "python3"
  },
  "language_info": {
   "codemirror_mode": {
    "name": "ipython",
    "version": 3
   },
   "file_extension": ".py",
   "mimetype": "text/x-python",
   "name": "python",
   "nbconvert_exporter": "python",
   "pygments_lexer": "ipython3",
   "version": "3.12.8"
  },
  "vscode": {
   "interpreter": {
    "hash": "aee8b7b246df8f9039afb4144a1f6fd8d2ca17a180786b69acc140d282b71a49"
   }
  }
 },
 "nbformat": 4,
 "nbformat_minor": 4
}
